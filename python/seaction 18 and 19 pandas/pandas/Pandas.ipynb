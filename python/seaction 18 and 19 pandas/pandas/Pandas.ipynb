{
  "nbformat": 4,
  "nbformat_minor": 0,
  "metadata": {
    "colab": {
      "provenance": []
    },
    "kernelspec": {
      "name": "python3",
      "display_name": "Python 3"
    },
    "language_info": {
      "name": "python"
    }
  },
  "cells": [
    {
      "cell_type": "code",
      "execution_count": null,
      "metadata": {
        "id": "e32eFUXegLJr"
      },
      "outputs": [],
      "source": []
    },
    {
      "cell_type": "markdown",
      "source": [
        "#how to create string in pandas"
      ],
      "metadata": {
        "id": "F_HNV08Xilbr"
      }
    },
    {
      "cell_type": "code",
      "source": [
        "import pandas as pd\n",
        "import numpy as np\n",
        "\n",
        "city=[\"Dhaka\",\"Dehli\",\"Istambul\",\"China\"]\n",
        "\n",
        "city=pd.Series(city)"
      ],
      "metadata": {
        "id": "micOme0birz_"
      },
      "execution_count": null,
      "outputs": []
    },
    {
      "cell_type": "markdown",
      "source": [
        "In python-pandas most of cases object= string"
      ],
      "metadata": {
        "id": "Pbv-ttq7rqyx"
      }
    },
    {
      "cell_type": "code",
      "source": [
        "marks=[100,68,49,20,40]\n",
        "pd.Series(marks)"
      ],
      "metadata": {
        "colab": {
          "base_uri": "https://localhost:8080/",
          "height": 241
        },
        "id": "7WVh_Us-jQPx",
        "outputId": "134db5c3-1c4e-41cd-b675-ca55e9c9978d"
      },
      "execution_count": null,
      "outputs": [
        {
          "output_type": "execute_result",
          "data": {
            "text/plain": [
              "0    100\n",
              "1     68\n",
              "2     49\n",
              "3     20\n",
              "4     40\n",
              "dtype: int64"
            ],
            "text/html": [
              "<div>\n",
              "<style scoped>\n",
              "    .dataframe tbody tr th:only-of-type {\n",
              "        vertical-align: middle;\n",
              "    }\n",
              "\n",
              "    .dataframe tbody tr th {\n",
              "        vertical-align: top;\n",
              "    }\n",
              "\n",
              "    .dataframe thead th {\n",
              "        text-align: right;\n",
              "    }\n",
              "</style>\n",
              "<table border=\"1\" class=\"dataframe\">\n",
              "  <thead>\n",
              "    <tr style=\"text-align: right;\">\n",
              "      <th></th>\n",
              "      <th>0</th>\n",
              "    </tr>\n",
              "  </thead>\n",
              "  <tbody>\n",
              "    <tr>\n",
              "      <th>0</th>\n",
              "      <td>100</td>\n",
              "    </tr>\n",
              "    <tr>\n",
              "      <th>1</th>\n",
              "      <td>68</td>\n",
              "    </tr>\n",
              "    <tr>\n",
              "      <th>2</th>\n",
              "      <td>49</td>\n",
              "    </tr>\n",
              "    <tr>\n",
              "      <th>3</th>\n",
              "      <td>20</td>\n",
              "    </tr>\n",
              "    <tr>\n",
              "      <th>4</th>\n",
              "      <td>40</td>\n",
              "    </tr>\n",
              "  </tbody>\n",
              "</table>\n",
              "</div><br><label><b>dtype:</b> int64</label>"
            ]
          },
          "metadata": {},
          "execution_count": 18
        }
      ]
    },
    {
      "cell_type": "markdown",
      "source": [
        "##series with own indexing and value\n"
      ],
      "metadata": {
        "id": "IO7PCXfBr2qj"
      }
    },
    {
      "cell_type": "code",
      "source": [
        "import pandas as pd\n",
        "import numpy as np\n",
        "\n",
        "mark=[78,68,90,69]\n",
        "\n",
        "print(mark)\n",
        "\n",
        "subject=['Bangla','english','Math','Higher Math']\n",
        "\n",
        "s=pd.Series(mark,index=subject,name=\"Pranto's Mark\",dtype=np.int16)\n",
        "print(s)\n",
        "print(s['Bangla'])\n",
        "\n"
      ],
      "metadata": {
        "colab": {
          "base_uri": "https://localhost:8080/"
        },
        "id": "wNWZ0VXjsIon",
        "outputId": "8f31032e-1e57-4f72-cfba-570423a73a0b"
      },
      "execution_count": null,
      "outputs": [
        {
          "output_type": "stream",
          "name": "stdout",
          "text": [
            "[78, 68, 90, 69]\n",
            "Bangla         78\n",
            "english        68\n",
            "Math           90\n",
            "Higher Math    69\n",
            "Name: Pranto's Mark, dtype: int16\n",
            "78\n"
          ]
        }
      ]
    },
    {
      "cell_type": "markdown",
      "source": [
        "###Series creating using dict:"
      ],
      "metadata": {
        "id": "7GC_mnMt038J"
      }
    },
    {
      "cell_type": "code",
      "source": [
        "from typing import ItemsView\n",
        "import pandas as pd\n",
        "import numpy as np\n",
        "\n",
        "market_items={\n",
        "    'Mango':10,\n",
        "    'Brash':2,\n",
        "    'Egg':4,\n",
        "    'banana':13\n",
        "}\n",
        "\n",
        "ItemsView=pd.Series(market_items,dtype=np.int16,name=\"alam bazar\")\n",
        "print(ItemsView)\n",
        "\n",
        "\n",
        "\n",
        "\n"
      ],
      "metadata": {
        "colab": {
          "base_uri": "https://localhost:8080/"
        },
        "id": "X3Z2uhf2s2HQ",
        "outputId": "22018316-0b43-4e72-f6d2-519e6da65ec4"
      },
      "execution_count": null,
      "outputs": [
        {
          "output_type": "stream",
          "name": "stdout",
          "text": [
            "Mango     10\n",
            "Brash      2\n",
            "Egg        4\n",
            "banana    13\n",
            "Name: alam bazar, dtype: int16\n"
          ]
        }
      ]
    },
    {
      "cell_type": "markdown",
      "source": [
        "#Attribute of series"
      ],
      "metadata": {
        "id": "5_Tee4B33SSV"
      }
    },
    {
      "cell_type": "code",
      "source": [
        "#size -> show me total items number\n",
        "print(ItemsView.size)\n",
        "\n",
        "#dtype -> show me the datatype of value\n",
        "\n",
        "print(ItemsView.dtype)\n",
        "\n",
        "#Name\n",
        "\n",
        "print(ItemsView.name)\n",
        "\n",
        "#is_unique--all item jodi unique hoy tahole true otherwise false\n",
        "\n",
        "print(ItemsView.is_unique)\n",
        "\n",
        "print( pd.Series([1,1,2,3,4,5]).is_unique)\n",
        "\n",
        "#index\n",
        "\n",
        "print(ItemsView.index)\n",
        "\n",
        "print(city.index)\n",
        "\n",
        "#values\n",
        "\n",
        "print(ItemsView.values)\n",
        "\n",
        "\n"
      ],
      "metadata": {
        "colab": {
          "base_uri": "https://localhost:8080/"
        },
        "id": "o7oob04I3YIN",
        "outputId": "767aab61-cef1-4f21-8df9-5de14ec4184b"
      },
      "execution_count": null,
      "outputs": [
        {
          "output_type": "stream",
          "name": "stdout",
          "text": [
            "4\n",
            "int16\n",
            "alam bazar\n",
            "True\n",
            "False\n",
            "Index(['Mango', 'Brash', 'Egg', 'banana'], dtype='object')\n",
            "RangeIndex(start=0, stop=4, step=1)\n",
            "[10  2  4 13]\n"
          ]
        }
      ]
    },
    {
      "cell_type": "markdown",
      "source": [
        "#after dataset upload code run"
      ],
      "metadata": {
        "id": "B1N0pF5ykZWI"
      }
    },
    {
      "cell_type": "code",
      "source": [
        "\n",
        "#sub import as series\n",
        "import pandas as pd\n",
        "sub=pd.read_csv('/content/subs.csv')\n",
        "print(type(sub))\n",
        "\n",
        "sub=sub.squeeze()   #convert series\n",
        "\n",
        "type(sub)\n",
        "\n",
        "print(sub)\n"
      ],
      "metadata": {
        "colab": {
          "base_uri": "https://localhost:8080/"
        },
        "id": "08j9jRJTkf6p",
        "outputId": "05ca83b4-349d-48f4-d070-2c2d434ee8ad"
      },
      "execution_count": null,
      "outputs": [
        {
          "output_type": "stream",
          "name": "stdout",
          "text": [
            "<class 'pandas.core.frame.DataFrame'>\n",
            "0       48\n",
            "1       57\n",
            "2       40\n",
            "3       43\n",
            "4       44\n",
            "      ... \n",
            "360    231\n",
            "361    226\n",
            "362    155\n",
            "363    144\n",
            "364    172\n",
            "Name: Subscribers gained, Length: 365, dtype: int64\n"
          ]
        }
      ]
    },
    {
      "cell_type": "markdown",
      "source": [
        "#pre defind index as match_no"
      ],
      "metadata": {
        "id": "KIcoOMW3oyY3"
      }
    },
    {
      "cell_type": "code",
      "source": [
        "import pandas as pd\n",
        "import numpy as np\n",
        "\n",
        "vk=pd.read_csv('/content/kohli_ipl.csv',index_col='match_no').squeeze()\n",
        "\n",
        "print(vk)\n",
        "\n"
      ],
      "metadata": {
        "id": "ye1sOg1toeeS",
        "colab": {
          "base_uri": "https://localhost:8080/"
        },
        "outputId": "aa4b5647-b082-4127-c223-7a0a5b91014a"
      },
      "execution_count": null,
      "outputs": [
        {
          "output_type": "stream",
          "name": "stdout",
          "text": [
            "match_no\n",
            "1       1\n",
            "2      23\n",
            "3      13\n",
            "4      12\n",
            "5       1\n",
            "       ..\n",
            "211     0\n",
            "212    20\n",
            "213    73\n",
            "214    25\n",
            "215     7\n",
            "Name: runs, Length: 215, dtype: int64\n"
          ]
        }
      ]
    },
    {
      "cell_type": "code",
      "source": [
        "import pandas as pd\n",
        "\n",
        "movie= pd.read_csv('/content/bollywood.csv',index_col='movie').squeeze()\n",
        "\n",
        "print(movie)"
      ],
      "metadata": {
        "colab": {
          "base_uri": "https://localhost:8080/"
        },
        "id": "pkSTPHRzpTNU",
        "outputId": "d84d6755-1fd2-4aa7-d0fe-b614b7dcbee2"
      },
      "execution_count": null,
      "outputs": [
        {
          "output_type": "stream",
          "name": "stdout",
          "text": [
            "movie\n",
            "Uri: The Surgical Strike                   Vicky Kaushal\n",
            "Battalion 609                                Vicky Ahuja\n",
            "The Accidental Prime Minister (film)         Anupam Kher\n",
            "Why Cheat India                            Emraan Hashmi\n",
            "Evening Shadows                         Mona Ambegaonkar\n",
            "                                              ...       \n",
            "Hum Tumhare Hain Sanam                    Shah Rukh Khan\n",
            "Aankhen (2002 film)                     Amitabh Bachchan\n",
            "Saathiya (film)                             Vivek Oberoi\n",
            "Company (film)                                Ajay Devgn\n",
            "Awara Paagal Deewana                        Akshay Kumar\n",
            "Name: lead, Length: 1500, dtype: object\n"
          ]
        }
      ]
    },
    {
      "cell_type": "markdown",
      "source": [
        "#Attributes"
      ],
      "metadata": {
        "id": "1-BtCej9CqT0"
      }
    },
    {
      "cell_type": "code",
      "source": [
        "# first 5 row\n",
        "sub.head()\n",
        "\n",
        "#if i want row specific\n",
        "sub.head(100)\n"
      ],
      "metadata": {
        "colab": {
          "base_uri": "https://localhost:8080/",
          "height": 458
        },
        "id": "cgoMabaTCtHR",
        "outputId": "6d8ce39e-2931-4154-90c8-fcca1f1faab8"
      },
      "execution_count": null,
      "outputs": [
        {
          "output_type": "execute_result",
          "data": {
            "text/plain": [
              "0     48\n",
              "1     57\n",
              "2     40\n",
              "3     43\n",
              "4     44\n",
              "      ..\n",
              "95    86\n",
              "96    95\n",
              "97    83\n",
              "98    72\n",
              "99    87\n",
              "Name: Subscribers gained, Length: 100, dtype: int64"
            ],
            "text/html": [
              "<div>\n",
              "<style scoped>\n",
              "    .dataframe tbody tr th:only-of-type {\n",
              "        vertical-align: middle;\n",
              "    }\n",
              "\n",
              "    .dataframe tbody tr th {\n",
              "        vertical-align: top;\n",
              "    }\n",
              "\n",
              "    .dataframe thead th {\n",
              "        text-align: right;\n",
              "    }\n",
              "</style>\n",
              "<table border=\"1\" class=\"dataframe\">\n",
              "  <thead>\n",
              "    <tr style=\"text-align: right;\">\n",
              "      <th></th>\n",
              "      <th>Subscribers gained</th>\n",
              "    </tr>\n",
              "  </thead>\n",
              "  <tbody>\n",
              "    <tr>\n",
              "      <th>0</th>\n",
              "      <td>48</td>\n",
              "    </tr>\n",
              "    <tr>\n",
              "      <th>1</th>\n",
              "      <td>57</td>\n",
              "    </tr>\n",
              "    <tr>\n",
              "      <th>2</th>\n",
              "      <td>40</td>\n",
              "    </tr>\n",
              "    <tr>\n",
              "      <th>3</th>\n",
              "      <td>43</td>\n",
              "    </tr>\n",
              "    <tr>\n",
              "      <th>4</th>\n",
              "      <td>44</td>\n",
              "    </tr>\n",
              "    <tr>\n",
              "      <th>...</th>\n",
              "      <td>...</td>\n",
              "    </tr>\n",
              "    <tr>\n",
              "      <th>95</th>\n",
              "      <td>86</td>\n",
              "    </tr>\n",
              "    <tr>\n",
              "      <th>96</th>\n",
              "      <td>95</td>\n",
              "    </tr>\n",
              "    <tr>\n",
              "      <th>97</th>\n",
              "      <td>83</td>\n",
              "    </tr>\n",
              "    <tr>\n",
              "      <th>98</th>\n",
              "      <td>72</td>\n",
              "    </tr>\n",
              "    <tr>\n",
              "      <th>99</th>\n",
              "      <td>87</td>\n",
              "    </tr>\n",
              "  </tbody>\n",
              "</table>\n",
              "<p>100 rows × 1 columns</p>\n",
              "</div><br><label><b>dtype:</b> int64</label>"
            ]
          },
          "metadata": {},
          "execution_count": 25
        }
      ]
    },
    {
      "cell_type": "code",
      "source": [
        "#tail work botton\n",
        "\n",
        "sub.tail()\n"
      ],
      "metadata": {
        "colab": {
          "base_uri": "https://localhost:8080/",
          "height": 241
        },
        "id": "0PHl3CGqDEGv",
        "outputId": "c12719d4-adad-4e3a-f08f-d96a8dd20147"
      },
      "execution_count": null,
      "outputs": [
        {
          "output_type": "execute_result",
          "data": {
            "text/plain": [
              "360    231\n",
              "361    226\n",
              "362    155\n",
              "363    144\n",
              "364    172\n",
              "Name: Subscribers gained, dtype: int64"
            ],
            "text/html": [
              "<div>\n",
              "<style scoped>\n",
              "    .dataframe tbody tr th:only-of-type {\n",
              "        vertical-align: middle;\n",
              "    }\n",
              "\n",
              "    .dataframe tbody tr th {\n",
              "        vertical-align: top;\n",
              "    }\n",
              "\n",
              "    .dataframe thead th {\n",
              "        text-align: right;\n",
              "    }\n",
              "</style>\n",
              "<table border=\"1\" class=\"dataframe\">\n",
              "  <thead>\n",
              "    <tr style=\"text-align: right;\">\n",
              "      <th></th>\n",
              "      <th>Subscribers gained</th>\n",
              "    </tr>\n",
              "  </thead>\n",
              "  <tbody>\n",
              "    <tr>\n",
              "      <th>360</th>\n",
              "      <td>231</td>\n",
              "    </tr>\n",
              "    <tr>\n",
              "      <th>361</th>\n",
              "      <td>226</td>\n",
              "    </tr>\n",
              "    <tr>\n",
              "      <th>362</th>\n",
              "      <td>155</td>\n",
              "    </tr>\n",
              "    <tr>\n",
              "      <th>363</th>\n",
              "      <td>144</td>\n",
              "    </tr>\n",
              "    <tr>\n",
              "      <th>364</th>\n",
              "      <td>172</td>\n",
              "    </tr>\n",
              "  </tbody>\n",
              "</table>\n",
              "</div><br><label><b>dtype:</b> int64</label>"
            ]
          },
          "metadata": {},
          "execution_count": 26
        }
      ]
    },
    {
      "cell_type": "code",
      "source": [
        "#if data is bias that's why work sample\n",
        "\n",
        "sub.sample()  #1 row just\n",
        "\n",
        "sub.sample(10) #10 row\n",
        "\n"
      ],
      "metadata": {
        "colab": {
          "base_uri": "https://localhost:8080/",
          "height": 398
        },
        "id": "cNGkOEqFDLO9",
        "outputId": "f506b834-62ae-4206-d2d9-2f15ebd1182e"
      },
      "execution_count": null,
      "outputs": [
        {
          "output_type": "execute_result",
          "data": {
            "text/plain": [
              "349    164\n",
              "239    153\n",
              "113     96\n",
              "336    176\n",
              "117     66\n",
              "333    229\n",
              "345    258\n",
              "52     111\n",
              "63      99\n",
              "133     72\n",
              "Name: Subscribers gained, dtype: int64"
            ],
            "text/html": [
              "<div>\n",
              "<style scoped>\n",
              "    .dataframe tbody tr th:only-of-type {\n",
              "        vertical-align: middle;\n",
              "    }\n",
              "\n",
              "    .dataframe tbody tr th {\n",
              "        vertical-align: top;\n",
              "    }\n",
              "\n",
              "    .dataframe thead th {\n",
              "        text-align: right;\n",
              "    }\n",
              "</style>\n",
              "<table border=\"1\" class=\"dataframe\">\n",
              "  <thead>\n",
              "    <tr style=\"text-align: right;\">\n",
              "      <th></th>\n",
              "      <th>Subscribers gained</th>\n",
              "    </tr>\n",
              "  </thead>\n",
              "  <tbody>\n",
              "    <tr>\n",
              "      <th>349</th>\n",
              "      <td>164</td>\n",
              "    </tr>\n",
              "    <tr>\n",
              "      <th>239</th>\n",
              "      <td>153</td>\n",
              "    </tr>\n",
              "    <tr>\n",
              "      <th>113</th>\n",
              "      <td>96</td>\n",
              "    </tr>\n",
              "    <tr>\n",
              "      <th>336</th>\n",
              "      <td>176</td>\n",
              "    </tr>\n",
              "    <tr>\n",
              "      <th>117</th>\n",
              "      <td>66</td>\n",
              "    </tr>\n",
              "    <tr>\n",
              "      <th>333</th>\n",
              "      <td>229</td>\n",
              "    </tr>\n",
              "    <tr>\n",
              "      <th>345</th>\n",
              "      <td>258</td>\n",
              "    </tr>\n",
              "    <tr>\n",
              "      <th>52</th>\n",
              "      <td>111</td>\n",
              "    </tr>\n",
              "    <tr>\n",
              "      <th>63</th>\n",
              "      <td>99</td>\n",
              "    </tr>\n",
              "    <tr>\n",
              "      <th>133</th>\n",
              "      <td>72</td>\n",
              "    </tr>\n",
              "  </tbody>\n",
              "</table>\n",
              "</div><br><label><b>dtype:</b> int64</label>"
            ]
          },
          "metadata": {},
          "execution_count": 27
        }
      ]
    },
    {
      "cell_type": "code",
      "source": [
        "# value_counts()---->calulate values frequency every data\n",
        "\n",
        "movie.value_counts()"
      ],
      "metadata": {
        "colab": {
          "base_uri": "https://localhost:8080/",
          "height": 490
        },
        "id": "49X78vFRDV07",
        "outputId": "dcb44a5c-ed07-4a0e-9bb3-5360e3418132"
      },
      "execution_count": null,
      "outputs": [
        {
          "output_type": "execute_result",
          "data": {
            "text/plain": [
              "lead\n",
              "Akshay Kumar         48\n",
              "Amitabh Bachchan     45\n",
              "Ajay Devgn           38\n",
              "Salman Khan          31\n",
              "Sanjay Dutt          26\n",
              "                     ..\n",
              "Seema Azmi            1\n",
              "Akanksha Puri         1\n",
              "Charanpreet Insan     1\n",
              "Jaideep Ahlawat       1\n",
              "Monali Thakur         1\n",
              "Name: count, Length: 566, dtype: int64"
            ],
            "text/html": [
              "<div>\n",
              "<style scoped>\n",
              "    .dataframe tbody tr th:only-of-type {\n",
              "        vertical-align: middle;\n",
              "    }\n",
              "\n",
              "    .dataframe tbody tr th {\n",
              "        vertical-align: top;\n",
              "    }\n",
              "\n",
              "    .dataframe thead th {\n",
              "        text-align: right;\n",
              "    }\n",
              "</style>\n",
              "<table border=\"1\" class=\"dataframe\">\n",
              "  <thead>\n",
              "    <tr style=\"text-align: right;\">\n",
              "      <th></th>\n",
              "      <th>count</th>\n",
              "    </tr>\n",
              "    <tr>\n",
              "      <th>lead</th>\n",
              "      <th></th>\n",
              "    </tr>\n",
              "  </thead>\n",
              "  <tbody>\n",
              "    <tr>\n",
              "      <th>Akshay Kumar</th>\n",
              "      <td>48</td>\n",
              "    </tr>\n",
              "    <tr>\n",
              "      <th>Amitabh Bachchan</th>\n",
              "      <td>45</td>\n",
              "    </tr>\n",
              "    <tr>\n",
              "      <th>Ajay Devgn</th>\n",
              "      <td>38</td>\n",
              "    </tr>\n",
              "    <tr>\n",
              "      <th>Salman Khan</th>\n",
              "      <td>31</td>\n",
              "    </tr>\n",
              "    <tr>\n",
              "      <th>Sanjay Dutt</th>\n",
              "      <td>26</td>\n",
              "    </tr>\n",
              "    <tr>\n",
              "      <th>...</th>\n",
              "      <td>...</td>\n",
              "    </tr>\n",
              "    <tr>\n",
              "      <th>Seema Azmi</th>\n",
              "      <td>1</td>\n",
              "    </tr>\n",
              "    <tr>\n",
              "      <th>Akanksha Puri</th>\n",
              "      <td>1</td>\n",
              "    </tr>\n",
              "    <tr>\n",
              "      <th>Charanpreet Insan</th>\n",
              "      <td>1</td>\n",
              "    </tr>\n",
              "    <tr>\n",
              "      <th>Jaideep Ahlawat</th>\n",
              "      <td>1</td>\n",
              "    </tr>\n",
              "    <tr>\n",
              "      <th>Monali Thakur</th>\n",
              "      <td>1</td>\n",
              "    </tr>\n",
              "  </tbody>\n",
              "</table>\n",
              "<p>566 rows × 1 columns</p>\n",
              "</div><br><label><b>dtype:</b> int64</label>"
            ]
          },
          "metadata": {},
          "execution_count": 28
        }
      ]
    },
    {
      "cell_type": "code",
      "source": [
        "# sort value\n",
        "\n",
        "vk.sort_values(ascending=True)\n",
        "\n",
        "# decending order\n",
        "\n",
        "vk.sort_values(ascending=False)\n",
        "\n",
        "\n"
      ],
      "metadata": {
        "colab": {
          "base_uri": "https://localhost:8080/",
          "height": 490
        },
        "id": "swnAlQrcEe-f",
        "outputId": "2b5d9e02-c5a7-4440-fc1d-59a2b291e0b0"
      },
      "execution_count": null,
      "outputs": [
        {
          "output_type": "execute_result",
          "data": {
            "text/plain": [
              "match_no\n",
              "128    113\n",
              "126    109\n",
              "123    108\n",
              "120    100\n",
              "164    100\n",
              "      ... \n",
              "93       0\n",
              "130      0\n",
              "206      0\n",
              "207      0\n",
              "211      0\n",
              "Name: runs, Length: 215, dtype: int64"
            ],
            "text/html": [
              "<div>\n",
              "<style scoped>\n",
              "    .dataframe tbody tr th:only-of-type {\n",
              "        vertical-align: middle;\n",
              "    }\n",
              "\n",
              "    .dataframe tbody tr th {\n",
              "        vertical-align: top;\n",
              "    }\n",
              "\n",
              "    .dataframe thead th {\n",
              "        text-align: right;\n",
              "    }\n",
              "</style>\n",
              "<table border=\"1\" class=\"dataframe\">\n",
              "  <thead>\n",
              "    <tr style=\"text-align: right;\">\n",
              "      <th></th>\n",
              "      <th>runs</th>\n",
              "    </tr>\n",
              "    <tr>\n",
              "      <th>match_no</th>\n",
              "      <th></th>\n",
              "    </tr>\n",
              "  </thead>\n",
              "  <tbody>\n",
              "    <tr>\n",
              "      <th>128</th>\n",
              "      <td>113</td>\n",
              "    </tr>\n",
              "    <tr>\n",
              "      <th>126</th>\n",
              "      <td>109</td>\n",
              "    </tr>\n",
              "    <tr>\n",
              "      <th>123</th>\n",
              "      <td>108</td>\n",
              "    </tr>\n",
              "    <tr>\n",
              "      <th>120</th>\n",
              "      <td>100</td>\n",
              "    </tr>\n",
              "    <tr>\n",
              "      <th>164</th>\n",
              "      <td>100</td>\n",
              "    </tr>\n",
              "    <tr>\n",
              "      <th>...</th>\n",
              "      <td>...</td>\n",
              "    </tr>\n",
              "    <tr>\n",
              "      <th>93</th>\n",
              "      <td>0</td>\n",
              "    </tr>\n",
              "    <tr>\n",
              "      <th>130</th>\n",
              "      <td>0</td>\n",
              "    </tr>\n",
              "    <tr>\n",
              "      <th>206</th>\n",
              "      <td>0</td>\n",
              "    </tr>\n",
              "    <tr>\n",
              "      <th>207</th>\n",
              "      <td>0</td>\n",
              "    </tr>\n",
              "    <tr>\n",
              "      <th>211</th>\n",
              "      <td>0</td>\n",
              "    </tr>\n",
              "  </tbody>\n",
              "</table>\n",
              "<p>215 rows × 1 columns</p>\n",
              "</div><br><label><b>dtype:</b> int64</label>"
            ]
          },
          "metadata": {},
          "execution_count": 29
        }
      ]
    },
    {
      "cell_type": "code",
      "source": [
        "# geting highest value\n",
        "\n",
        "vk.sort_values(ascending=False).head(5).values[0]\n"
      ],
      "metadata": {
        "colab": {
          "base_uri": "https://localhost:8080/"
        },
        "id": "ENXDWpH7FEzI",
        "outputId": "a5747fdf-94d6-414c-a3a5-84cd007c2c9d"
      },
      "execution_count": null,
      "outputs": [
        {
          "output_type": "execute_result",
          "data": {
            "text/plain": [
              "np.int64(113)"
            ]
          },
          "metadata": {},
          "execution_count": 30
        }
      ]
    },
    {
      "cell_type": "code",
      "source": [
        "# permanent changes\n",
        "\n",
        "# # Create a copy before sorting in-place\n",
        "# vk_copy = vk.copy()\n",
        "# vk_copy.sort_values(inplace=True,ascending=False)\n",
        "\n",
        "# # If you intend to modify the original 'vk' variable, reassign the sorted copy\n",
        "# vk = vk_copy\n",
        "\n",
        "# print(vk)"
      ],
      "metadata": {
        "id": "UOJFnHZJGLlR"
      },
      "execution_count": null,
      "outputs": []
    },
    {
      "cell_type": "code",
      "source": [
        "# movie name order sort\n",
        "\n",
        "movie.sort_index(ascending=True)\n",
        "\n"
      ],
      "metadata": {
        "colab": {
          "base_uri": "https://localhost:8080/",
          "height": 490
        },
        "id": "u7d4sKEQG7KE",
        "outputId": "9a42ca91-2aaa-4b2f-9ef8-f15b02b4101f"
      },
      "execution_count": null,
      "outputs": [
        {
          "output_type": "execute_result",
          "data": {
            "text/plain": [
              "movie\n",
              "1920 (film)                   Rajniesh Duggall\n",
              "1920: London                     Sharman Joshi\n",
              "1920: The Evil Returns             Vicky Ahuja\n",
              "1971 (2007 film)                Manoj Bajpayee\n",
              "2 States (2014 film)              Arjun Kapoor\n",
              "                                   ...        \n",
              "Zindagi 50-50                      Veena Malik\n",
              "Zindagi Na Milegi Dobara        Hrithik Roshan\n",
              "Zindagi Tere Naam           Mithun Chakraborty\n",
              "Zokkomon                       Darsheel Safary\n",
              "Zor Lagaa Ke...Haiya!            Meghan Jadhav\n",
              "Name: lead, Length: 1500, dtype: object"
            ],
            "text/html": [
              "<div>\n",
              "<style scoped>\n",
              "    .dataframe tbody tr th:only-of-type {\n",
              "        vertical-align: middle;\n",
              "    }\n",
              "\n",
              "    .dataframe tbody tr th {\n",
              "        vertical-align: top;\n",
              "    }\n",
              "\n",
              "    .dataframe thead th {\n",
              "        text-align: right;\n",
              "    }\n",
              "</style>\n",
              "<table border=\"1\" class=\"dataframe\">\n",
              "  <thead>\n",
              "    <tr style=\"text-align: right;\">\n",
              "      <th></th>\n",
              "      <th>lead</th>\n",
              "    </tr>\n",
              "    <tr>\n",
              "      <th>movie</th>\n",
              "      <th></th>\n",
              "    </tr>\n",
              "  </thead>\n",
              "  <tbody>\n",
              "    <tr>\n",
              "      <th>1920 (film)</th>\n",
              "      <td>Rajniesh Duggall</td>\n",
              "    </tr>\n",
              "    <tr>\n",
              "      <th>1920: London</th>\n",
              "      <td>Sharman Joshi</td>\n",
              "    </tr>\n",
              "    <tr>\n",
              "      <th>1920: The Evil Returns</th>\n",
              "      <td>Vicky Ahuja</td>\n",
              "    </tr>\n",
              "    <tr>\n",
              "      <th>1971 (2007 film)</th>\n",
              "      <td>Manoj Bajpayee</td>\n",
              "    </tr>\n",
              "    <tr>\n",
              "      <th>2 States (2014 film)</th>\n",
              "      <td>Arjun Kapoor</td>\n",
              "    </tr>\n",
              "    <tr>\n",
              "      <th>...</th>\n",
              "      <td>...</td>\n",
              "    </tr>\n",
              "    <tr>\n",
              "      <th>Zindagi 50-50</th>\n",
              "      <td>Veena Malik</td>\n",
              "    </tr>\n",
              "    <tr>\n",
              "      <th>Zindagi Na Milegi Dobara</th>\n",
              "      <td>Hrithik Roshan</td>\n",
              "    </tr>\n",
              "    <tr>\n",
              "      <th>Zindagi Tere Naam</th>\n",
              "      <td>Mithun Chakraborty</td>\n",
              "    </tr>\n",
              "    <tr>\n",
              "      <th>Zokkomon</th>\n",
              "      <td>Darsheel Safary</td>\n",
              "    </tr>\n",
              "    <tr>\n",
              "      <th>Zor Lagaa Ke...Haiya!</th>\n",
              "      <td>Meghan Jadhav</td>\n",
              "    </tr>\n",
              "  </tbody>\n",
              "</table>\n",
              "<p>1500 rows × 1 columns</p>\n",
              "</div><br><label><b>dtype:</b> object</label>"
            ]
          },
          "metadata": {},
          "execution_count": 32
        }
      ]
    },
    {
      "cell_type": "markdown",
      "source": [
        "# Math use in dataset"
      ],
      "metadata": {
        "id": "rDNu3g16LD0-"
      }
    },
    {
      "cell_type": "code",
      "source": [
        "#count\n",
        "print(\"Count : \",vk.count()) #ignore the Null value\n",
        "\n",
        "#mean()\n",
        "\n",
        "print(\"Mean : \",vk.mean())\n",
        "\n",
        "#median()\n",
        "\n",
        "print(\"Median : \",vk.median())\n",
        "\n",
        "#mode()\n",
        "\n",
        "print(\"Mode : \",movie.mode())\n",
        "\n",
        "#sum()\n",
        "\n",
        "print(\"Sum : \",vk.sum())\n",
        "\n",
        "#std()\n",
        "\n",
        "print(\"Standard Deviation : \",vk.std())\n",
        "\n",
        "#var()\n",
        "\n",
        "print(\"Variance : \",vk.var())\n",
        "\n",
        "#min()\n",
        "\n",
        "print(\"Minimum Value : \",vk.min())\n",
        "\n",
        "#max()\n",
        "\n",
        "print(\"Maximum Value : \",vk.max())"
      ],
      "metadata": {
        "colab": {
          "base_uri": "https://localhost:8080/"
        },
        "id": "YTi43pPSLI-Z",
        "outputId": "c21d8f0e-899b-4821-b963-2d9229767165"
      },
      "execution_count": null,
      "outputs": [
        {
          "output_type": "stream",
          "name": "stdout",
          "text": [
            "Count :  215\n",
            "Mean :  30.855813953488372\n",
            "Median :  24.0\n",
            "Mode :  0    Akshay Kumar\n",
            "Name: lead, dtype: object\n",
            "Sum :  6634\n",
            "Standard Deviation :  26.22980132830278\n",
            "Variance :  688.0024777222344\n",
            "Minimum Value :  0\n",
            "Maximum Value :  113\n"
          ]
        }
      ]
    },
    {
      "cell_type": "markdown",
      "source": [
        "# shob calculation jodi ekbare tahole ekta function e hobe"
      ],
      "metadata": {
        "id": "nPmCXXVYOK1Y"
      }
    },
    {
      "cell_type": "code",
      "source": [
        "vk.describe()"
      ],
      "metadata": {
        "colab": {
          "base_uri": "https://localhost:8080/",
          "height": 335
        },
        "id": "a9SbzqYSNpJQ",
        "outputId": "320a6c18-52e7-4c37-d3ae-a958f1e9f37a"
      },
      "execution_count": null,
      "outputs": [
        {
          "output_type": "execute_result",
          "data": {
            "text/plain": [
              "count    215.000000\n",
              "mean      30.855814\n",
              "std       26.229801\n",
              "min        0.000000\n",
              "25%        9.000000\n",
              "50%       24.000000\n",
              "75%       48.000000\n",
              "max      113.000000\n",
              "Name: runs, dtype: float64"
            ],
            "text/html": [
              "<div>\n",
              "<style scoped>\n",
              "    .dataframe tbody tr th:only-of-type {\n",
              "        vertical-align: middle;\n",
              "    }\n",
              "\n",
              "    .dataframe tbody tr th {\n",
              "        vertical-align: top;\n",
              "    }\n",
              "\n",
              "    .dataframe thead th {\n",
              "        text-align: right;\n",
              "    }\n",
              "</style>\n",
              "<table border=\"1\" class=\"dataframe\">\n",
              "  <thead>\n",
              "    <tr style=\"text-align: right;\">\n",
              "      <th></th>\n",
              "      <th>runs</th>\n",
              "    </tr>\n",
              "  </thead>\n",
              "  <tbody>\n",
              "    <tr>\n",
              "      <th>count</th>\n",
              "      <td>215.000000</td>\n",
              "    </tr>\n",
              "    <tr>\n",
              "      <th>mean</th>\n",
              "      <td>30.855814</td>\n",
              "    </tr>\n",
              "    <tr>\n",
              "      <th>std</th>\n",
              "      <td>26.229801</td>\n",
              "    </tr>\n",
              "    <tr>\n",
              "      <th>min</th>\n",
              "      <td>0.000000</td>\n",
              "    </tr>\n",
              "    <tr>\n",
              "      <th>25%</th>\n",
              "      <td>9.000000</td>\n",
              "    </tr>\n",
              "    <tr>\n",
              "      <th>50%</th>\n",
              "      <td>24.000000</td>\n",
              "    </tr>\n",
              "    <tr>\n",
              "      <th>75%</th>\n",
              "      <td>48.000000</td>\n",
              "    </tr>\n",
              "    <tr>\n",
              "      <th>max</th>\n",
              "      <td>113.000000</td>\n",
              "    </tr>\n",
              "  </tbody>\n",
              "</table>\n",
              "</div><br><label><b>dtype:</b> float64</label>"
            ]
          },
          "metadata": {},
          "execution_count": 34
        }
      ]
    },
    {
      "cell_type": "code",
      "source": [
        "#indexing"
      ],
      "metadata": {
        "id": "lrj0neqEWeDe"
      },
      "execution_count": null,
      "outputs": []
    },
    {
      "cell_type": "code",
      "source": [
        "print(vk[1])\n",
        "\n",
        "#negative indexing not working\n",
        "\n",
        "# print(vk[-1])\n",
        "\n",
        "# negative indexing work in string\n",
        "\n",
        "print(movie[-1])"
      ],
      "metadata": {
        "id": "kwe5iDa7OVsm",
        "colab": {
          "base_uri": "https://localhost:8080/"
        },
        "outputId": "c37b4f6a-26a8-4622-a63e-03ea7be0f253"
      },
      "execution_count": null,
      "outputs": [
        {
          "output_type": "stream",
          "name": "stdout",
          "text": [
            "1\n",
            "Akshay Kumar\n"
          ]
        },
        {
          "output_type": "stream",
          "name": "stderr",
          "text": [
            "/tmp/ipython-input-2874730142.py:9: FutureWarning: Series.__getitem__ treating keys as positions is deprecated. In a future version, integer keys will always be treated as labels (consistent with DataFrame behavior). To access a value by position, use `ser.iloc[pos]`\n",
            "  print(movie[-1])\n"
          ]
        }
      ]
    },
    {
      "cell_type": "markdown",
      "source": [
        "#Slicing"
      ],
      "metadata": {
        "id": "Ms2yrR0RXPtp"
      }
    },
    {
      "cell_type": "code",
      "source": [
        "sub[5:100]"
      ],
      "metadata": {
        "colab": {
          "base_uri": "https://localhost:8080/",
          "height": 458
        },
        "id": "fmJQNfOzXOsz",
        "outputId": "57eac0e7-0b0c-4736-997b-9f78e512f4c3"
      },
      "execution_count": null,
      "outputs": [
        {
          "output_type": "execute_result",
          "data": {
            "text/plain": [
              "5     46\n",
              "6     33\n",
              "7     40\n",
              "8     44\n",
              "9     74\n",
              "      ..\n",
              "95    86\n",
              "96    95\n",
              "97    83\n",
              "98    72\n",
              "99    87\n",
              "Name: Subscribers gained, Length: 95, dtype: int64"
            ],
            "text/html": [
              "<div>\n",
              "<style scoped>\n",
              "    .dataframe tbody tr th:only-of-type {\n",
              "        vertical-align: middle;\n",
              "    }\n",
              "\n",
              "    .dataframe tbody tr th {\n",
              "        vertical-align: top;\n",
              "    }\n",
              "\n",
              "    .dataframe thead th {\n",
              "        text-align: right;\n",
              "    }\n",
              "</style>\n",
              "<table border=\"1\" class=\"dataframe\">\n",
              "  <thead>\n",
              "    <tr style=\"text-align: right;\">\n",
              "      <th></th>\n",
              "      <th>Subscribers gained</th>\n",
              "    </tr>\n",
              "  </thead>\n",
              "  <tbody>\n",
              "    <tr>\n",
              "      <th>5</th>\n",
              "      <td>46</td>\n",
              "    </tr>\n",
              "    <tr>\n",
              "      <th>6</th>\n",
              "      <td>33</td>\n",
              "    </tr>\n",
              "    <tr>\n",
              "      <th>7</th>\n",
              "      <td>40</td>\n",
              "    </tr>\n",
              "    <tr>\n",
              "      <th>8</th>\n",
              "      <td>44</td>\n",
              "    </tr>\n",
              "    <tr>\n",
              "      <th>9</th>\n",
              "      <td>74</td>\n",
              "    </tr>\n",
              "    <tr>\n",
              "      <th>...</th>\n",
              "      <td>...</td>\n",
              "    </tr>\n",
              "    <tr>\n",
              "      <th>95</th>\n",
              "      <td>86</td>\n",
              "    </tr>\n",
              "    <tr>\n",
              "      <th>96</th>\n",
              "      <td>95</td>\n",
              "    </tr>\n",
              "    <tr>\n",
              "      <th>97</th>\n",
              "      <td>83</td>\n",
              "    </tr>\n",
              "    <tr>\n",
              "      <th>98</th>\n",
              "      <td>72</td>\n",
              "    </tr>\n",
              "    <tr>\n",
              "      <th>99</th>\n",
              "      <td>87</td>\n",
              "    </tr>\n",
              "  </tbody>\n",
              "</table>\n",
              "<p>95 rows × 1 columns</p>\n",
              "</div><br><label><b>dtype:</b> int64</label>"
            ]
          },
          "metadata": {},
          "execution_count": 37
        }
      ]
    },
    {
      "cell_type": "code",
      "source": [
        "# negative slicing\n",
        "\n",
        "movie[-5:-1]"
      ],
      "metadata": {
        "colab": {
          "base_uri": "https://localhost:8080/",
          "height": 241
        },
        "id": "NQ3LFDSCXiI-",
        "outputId": "b096a191-3823-40e8-8e09-e1bce2078021"
      },
      "execution_count": null,
      "outputs": [
        {
          "output_type": "execute_result",
          "data": {
            "text/plain": [
              "movie\n",
              "Hum Tumhare Hain Sanam      Shah Rukh Khan\n",
              "Aankhen (2002 film)       Amitabh Bachchan\n",
              "Saathiya (film)               Vivek Oberoi\n",
              "Company (film)                  Ajay Devgn\n",
              "Name: lead, dtype: object"
            ],
            "text/html": [
              "<div>\n",
              "<style scoped>\n",
              "    .dataframe tbody tr th:only-of-type {\n",
              "        vertical-align: middle;\n",
              "    }\n",
              "\n",
              "    .dataframe tbody tr th {\n",
              "        vertical-align: top;\n",
              "    }\n",
              "\n",
              "    .dataframe thead th {\n",
              "        text-align: right;\n",
              "    }\n",
              "</style>\n",
              "<table border=\"1\" class=\"dataframe\">\n",
              "  <thead>\n",
              "    <tr style=\"text-align: right;\">\n",
              "      <th></th>\n",
              "      <th>lead</th>\n",
              "    </tr>\n",
              "    <tr>\n",
              "      <th>movie</th>\n",
              "      <th></th>\n",
              "    </tr>\n",
              "  </thead>\n",
              "  <tbody>\n",
              "    <tr>\n",
              "      <th>Hum Tumhare Hain Sanam</th>\n",
              "      <td>Shah Rukh Khan</td>\n",
              "    </tr>\n",
              "    <tr>\n",
              "      <th>Aankhen (2002 film)</th>\n",
              "      <td>Amitabh Bachchan</td>\n",
              "    </tr>\n",
              "    <tr>\n",
              "      <th>Saathiya (film)</th>\n",
              "      <td>Vivek Oberoi</td>\n",
              "    </tr>\n",
              "    <tr>\n",
              "      <th>Company (film)</th>\n",
              "      <td>Ajay Devgn</td>\n",
              "    </tr>\n",
              "  </tbody>\n",
              "</table>\n",
              "</div><br><label><b>dtype:</b> object</label>"
            ]
          },
          "metadata": {},
          "execution_count": 38
        }
      ]
    },
    {
      "cell_type": "code",
      "source": [
        "#fancy indexing\n",
        "\n",
        "print(vk[[1,3,7,9]])"
      ],
      "metadata": {
        "colab": {
          "base_uri": "https://localhost:8080/"
        },
        "id": "y8-m1HxyXx72",
        "outputId": "0ef51d48-ef69-429d-f657-6519b1911dbd"
      },
      "execution_count": null,
      "outputs": [
        {
          "output_type": "stream",
          "name": "stdout",
          "text": [
            "match_no\n",
            "1     1\n",
            "3    13\n",
            "7    34\n",
            "9    21\n",
            "Name: runs, dtype: int64\n"
          ]
        }
      ]
    },
    {
      "cell_type": "markdown",
      "source": [
        "#graph using pandas"
      ],
      "metadata": {
        "id": "vj2CtHK2b-Lz"
      }
    },
    {
      "cell_type": "code",
      "source": [
        "sub.plot()"
      ],
      "metadata": {
        "colab": {
          "base_uri": "https://localhost:8080/",
          "height": 447
        },
        "id": "HhhL9_XEcBO3",
        "outputId": "d2d88d61-9166-40db-bfbd-f1dce92052d4"
      },
      "execution_count": null,
      "outputs": [
        {
          "output_type": "execute_result",
          "data": {
            "text/plain": [
              "<Axes: >"
            ]
          },
          "metadata": {},
          "execution_count": 40
        },
        {
          "output_type": "display_data",
          "data": {
            "text/plain": [
              "<Figure size 640x480 with 1 Axes>"
            ],
            "image/png": "[encoded data removed]"
          },
          "metadata": {}
        }
      ]
    },
    {
      "cell_type": "code",
      "source": [
        "top_ten =movie.value_counts().head(10)\n",
        "\n",
        "# top_ten.plot(kind='pie')\n",
        "\n",
        "top_ten.plot(kind='bar')"
      ],
      "metadata": {
        "colab": {
          "base_uri": "https://localhost:8080/",
          "height": 586
        },
        "id": "Ep3PK7VecF9Q",
        "outputId": "7f00ba0c-c0a4-42f7-a175-005cb57a3220"
      },
      "execution_count": null,
      "outputs": [
        {
          "output_type": "execute_result",
          "data": {
            "text/plain": [
              "<Axes: xlabel='lead'>"
            ]
          },
          "metadata": {},
          "execution_count": 41
        },
        {
          "output_type": "display_data",
          "data": {
            "text/plain": [
              "<Figure size 640x480 with 1 Axes>"
            ],
            "image/png": "[encoded data removed]"
          },
          "metadata": {}
        }
      ]
    },
    {
      "cell_type": "code",
      "source": [],
      "metadata": {
        "id": "m1Dit4zEl0Tw"
      },
      "execution_count": null,
      "outputs": []
    },
    {
      "cell_type": "markdown",
      "source": [],
      "metadata": {
        "id": "0ojxKvlilzm-"
      }
    }
  ]
}